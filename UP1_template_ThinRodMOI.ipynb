{
  "nbformat": 4,
  "nbformat_minor": 0,
  "metadata": {
    "colab": {
      "name": "UP1_template_ThinRodMOI.ipynb",
      "provenance": [],
      "collapsed_sections": [],
      "include_colab_link": true
    },
    "kernelspec": {
      "display_name": "Python 3",
      "language": "python",
      "name": "python3"
    }
  },
  "cells": [
    {
      "cell_type": "markdown",
      "metadata": {
        "id": "view-in-github",
        "colab_type": "text"
      },
      "source": [
        "<a href=\"https://colab.research.google.com/github/AaronMcGowan/PHYS315/blob/master/UP1_template_ThinRodMOI.ipynb\" target=\"_parent\"><img src=\"https://colab.research.google.com/assets/colab-badge.svg\" alt=\"Open In Colab\"/></a>"
      ]
    },
    {
      "cell_type": "markdown",
      "metadata": {
        "id": "4ebz4SsRKnbQ",
        "colab_type": "text"
      },
      "source": [
        "# Breaking it up: Calculating the Moment of Inertia of a Thin Rod"
      ]
    },
    {
      "cell_type": "markdown",
      "metadata": {
        "id": "hJzL6OuDKnbW",
        "colab_type": "text"
      },
      "source": [
        "Computational approach to integrating over continuous distributions of mass"
      ]
    },
    {
      "cell_type": "code",
      "metadata": {
        "id": "qJr02wFnKnbb",
        "colab_type": "code",
        "colab": {}
      },
      "source": [
        ""
      ],
      "execution_count": 0,
      "outputs": []
    },
    {
      "cell_type": "code",
      "metadata": {
        "id": "Y6dYQ3iDKnbo",
        "colab_type": "code",
        "outputId": "0abf6fbd-795c-4e73-c100-5538a653643c",
        "colab": {
          "base_uri": "https://localhost:8080/",
          "height": 443
        }
      },
      "source": [
        "import math\n",
        "import numpy as np\n",
        "import matplotlib.pyplot as plt\n",
        "from decimal import *\n",
        "# Compute the moment of inertia (MOI) by breaking the rod into N pieces.\n",
        "# Adapted from A. Titus's \"efield-rod-exercise-6-visualization.ipynb\"\n",
        "#  by A. McGowan and J. Haverlick, 21 Oct 2019\n",
        "getcontext().prec = 4\n",
        "\n",
        "g = 9.806 # m/s**2\n",
        "N = 10000 # total number of pieces, not to exceed ~1e6\n",
        "L = 1.0 # length of rod in meters\n",
        "#M = 0.832 # mass of rod in kg\n",
        "M=1 #test, to check I=(ML^2)/3 for endpoint P\n",
        "\n",
        "\n",
        "# compute the mass of each piece of the rod\n",
        "dm = M / N # mass of each piece of the rod\n",
        "\n",
        "# compute the length of each piece of the rod\n",
        "dx = L / N #length of each piece of the rod\n",
        "A = 0\n",
        "omega = 0\n",
        "N_pivots = 40\n",
        "A_factors = np.zeros(N_pivots)\n",
        "I_moments = np.zeros(N_pivots)\n",
        "T_periods = np.zeros(N_pivots)\n",
        "x_locs = np.zeros(N_pivots)\n",
        "\n",
        "# loop over all pivot choices\n",
        "x_p = 0\n",
        "x_index = 0\n",
        "while x_p < N_pivots/100: # m, moving the pivot by 1 cm each iteration\n",
        "  i = 0 # piece counter used for the loop; piece 0 is the piece at the left end\n",
        "  r_i = 0 # initialize distance from center of each piece i to point P (rotation axis)\n",
        "  # calculate contribution to MOI from each dm\n",
        "  dMOI = 0\n",
        "  MOI = 0\n",
        "  print(\"Pivot is\",Decimal(x_p)*100,\"cm from endpoint:\")\n",
        "\n",
        "  # Calculate new gravitational torgue factor A = (L/2 -x)Mg\n",
        "  #  about P \n",
        "  #  where omega**2 = A / I_x, and period T = 2pi/omega .\n",
        "  A = (L/2 - x_p) * M * g\n",
        "#  print(\" Gravitational torque factor A is \",A,\"N m\")\n",
        "  A_factors[x_index]=A\n",
        "  # loop over all segments of meter stick to calculate new MOI\n",
        "  while i < N:\n",
        "      # treat each piece of the rod as a point mass located at the midpoint of that piece\n",
        "    \n",
        "      ###### EDIT HERE: write the new r vector magnitude from the pivot to the dm ######\n",
        "      r_i =  # distance from P to midpoint of piece i    \n",
        "      ##################################################################################\n",
        "\n",
        "      # compute the dMOI due to this i-th piece\n",
        "      dMOI = dm * r_i**2 # dMOI due to piece i, in kg m^2\n",
        "          \n",
        "      MOI = MOI + dMOI # MOI due to all pieces 0 through i, in N/C\n",
        "    \n",
        "      i = i + 1 # increment to the next piece\n",
        "\n",
        "#  print(\" The moment of inertia is = \",Decimal(MOI)*1, \"kg m^2\")\n",
        "  I_moments[x_index]=MOI\n",
        "  omega = math.sqrt(A/MOI)\n",
        "  period = 2*math.pi/omega\n",
        "  print(\"   The period is\",period,\" s\")\n",
        "  T_periods[x_index]=period\n",
        "  x_locs[x_index]=x_p\n",
        "  \n",
        "  x_p += 0.01 # increment pivot location by 1 cm\n",
        "  x_index += 1\n",
        "#print(\"A_factors:\",A_factors)\n",
        "#print(\"I_moments:\",I_moments)\n",
        "#print(\"T_periods:\",T_periods)\n",
        "\n",
        "plt.figure(figsize=(4,6))\n",
        "plt.subplot(3,1,1)\n",
        "\n",
        "plt.plot(x_locs,A_factors,label=\"Torque\")\n",
        "plt.legend()\n",
        "plt.ylabel(\"Torque (Nm)\")\n",
        "plt.tick_params(axis='x',bottom=False,labelbottom=False)\n",
        "plt.subplot(3,1,2)\n",
        "\n",
        "plt.plot(x_locs,I_moments,label=\"MOI\",color=\"g\")\n",
        "plt.legend()\n",
        "plt.ylabel(\"MOI $(kg m^2)$\")\n",
        "plt.tick_params(axis='x',bottom=False,labelbottom=False)\n",
        "plt.subplot(3,1,3)\n",
        "\n",
        "plt.plot(x_locs,T_periods,label=\"Period\",color=\"r\")\n",
        "plt.legend(loc=\"upper right\")\n",
        "plt.ylabel(\"Period (s)\")\n",
        "\n",
        "#plt.legend()\n",
        "plt.xlabel(\"pivot distance from end (m)\")\n",
        "#plt.ylabel(\"torque (Nm), MOI (kg m^2), period (s)\")\n",
        "plt.tight_layout()\n",
        "plt.show()\n"
      ],
      "execution_count": 0,
      "outputs": [
        {
          "output_type": "display_data",
          "data": {
            "image/png": "[encoded data removed]",
            "text/plain": [
              "<Figure size 288x432 with 3 Axes>"
            ]
          },
          "metadata": {
            "tags": []
          }
        }
      ]
    },
    {
      "cell_type": "code",
      "metadata": {
        "id": "6iEl1HxXrrQ1",
        "colab_type": "code",
        "outputId": "6b8ad448-ac09-48f5-c78a-5b6397351e94",
        "colab": {
          "base_uri": "https://localhost:8080/",
          "height": 34
        }
      },
      "source": [
        ""
      ],
      "execution_count": 0,
      "outputs": [
        {
          "output_type": "display_data",
          "data": {
            "text/plain": [
              "<Figure size 432x288 with 0 Axes>"
            ]
          },
          "metadata": {
            "tags": []
          }
        }
      ]
    },
    {
      "cell_type": "markdown",
      "metadata": {
        "id": "vl-haBfWnQBI",
        "colab_type": "text"
      },
      "source": [
        "# New Section"
      ]
    },
    {
      "cell_type": "code",
      "metadata": {
        "id": "y6Jq2VpLrr0l",
        "colab_type": "code",
        "colab": {}
      },
      "source": [
        ""
      ],
      "execution_count": 0,
      "outputs": []
    },
    {
      "cell_type": "code",
      "metadata": {
        "id": "SPET6ddMKnb1",
        "colab_type": "code",
        "colab": {}
      },
      "source": [
        ""
      ],
      "execution_count": 0,
      "outputs": []
    },
    {
      "cell_type": "code",
      "metadata": {
        "id": "2o8j9JFUKnb8",
        "colab_type": "code",
        "colab": {}
      },
      "source": [
        ""
      ],
      "execution_count": 0,
      "outputs": []
    },
    {
      "cell_type": "code",
      "metadata": {
        "id": "N_7YOR9EKncC",
        "colab_type": "code",
        "colab": {}
      },
      "source": [
        ""
      ],
      "execution_count": 0,
      "outputs": []
    }
  ]
}