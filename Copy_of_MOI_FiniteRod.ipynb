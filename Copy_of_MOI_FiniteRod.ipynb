{
  "nbformat": 4,
  "nbformat_minor": 0,
  "metadata": {
    "colab": {
      "name": "Copy of MOI_FiniteRod.ipynb",
      "provenance": [],
      "collapsed_sections": [],
      "include_colab_link": true
    },
    "kernelspec": {
      "display_name": "Python 3",
      "language": "python",
      "name": "python3"
    }
  },
  "cells": [
    {
      "cell_type": "markdown",
      "metadata": {
        "id": "view-in-github",
        "colab_type": "text"
      },
      "source": [
        "<a href=\"https://colab.research.google.com/github/AaronMcGowan/PHYS315/blob/master/Copy_of_MOI_FiniteRod.ipynb\" target=\"_parent\"><img src=\"https://colab.research.google.com/assets/colab-badge.svg\" alt=\"Open In Colab\"/></a>"
      ]
    },
    {
      "cell_type": "markdown",
      "metadata": {
        "id": "4ebz4SsRKnbQ",
        "colab_type": "text"
      },
      "source": [
        "# Breaking it up: Calculating the Moment of Inertia of a Thin Rod"
      ]
    },
    {
      "cell_type": "markdown",
      "metadata": {
        "id": "hJzL6OuDKnbW",
        "colab_type": "text"
      },
      "source": [
        "Computational approach to integrating over continuous distributions of mass"
      ]
    },
    {
      "cell_type": "code",
      "metadata": {
        "id": "qJr02wFnKnbb",
        "colab_type": "code",
        "colab": {}
      },
      "source": [
        "from math import *"
      ],
      "execution_count": 0,
      "outputs": []
    },
    {
      "cell_type": "code",
      "metadata": {
        "id": "Y6dYQ3iDKnbo",
        "colab_type": "code",
        "outputId": "fce25518-63af-4081-e7b3-3a76beb3238a",
        "colab": {
          "base_uri": "https://localhost:8080/",
          "height": 35
        }
      },
      "source": [
        "# Compute the moment of inertia (MOI) by breaking the rod into N pieces.\n",
        "# Adapted from A. Titus's \"efield-rod-exercise-6-visualization.ipynb\"\n",
        "#  by A. McGowan and J. Haverlick, 21 Oct 2019\n",
        "\n",
        "N = 8 # total number of pieces, not to exceed ~1e6\n",
        "L = 1.0 # length of rod in meters\n",
        "\n",
        "M = 1.0 # mass of rod in kg\n",
        "\n",
        "### EDIT (1 of 3): compute the mass of each piece of the rod ###\n",
        "dm =  # mass of each piece of the rod\n",
        "\n",
        "### EDIT (2 of 3): compute the length of each piece of the rod ### \n",
        "dx =  #length of each piece of the rod\n",
        "\n",
        "i = 0 # piece counter used for the loop; piece 0 is the piece at the left end\n",
        "r_i = 0 # initialize distance from center of each piece i to point R (rotation axis)\n",
        "\n",
        "# calculate contribution to MOI from each dm\n",
        "dMOI = 0\n",
        "if N>1e6:\n",
        "  N=1e6\n",
        "MOI = 0\n",
        "\n",
        "while i < N:\n",
        "    # treat each piece of the rod as a point charge located at the midpoint of that piece\n",
        "    r_i = i*dx + dx/2 # distance from R to midpoint of piece i    \n",
        "    \n",
        "    ### EDIT (3 of 3): compute the dMOI due to this i-th piece ###\n",
        "    dMOI =  # dMOI due to piece i, in kg m^2\n",
        "          \n",
        "    MOI = MOI + dMOI # MOI due to all pieces 0 through i, in N/C\n",
        "    \n",
        "    i = i + 1 # increment to the next piece\n",
        "\n",
        "print(\"The total moment of inertia is = \",MOI, \"kg m^2\")"
      ],
      "execution_count": 0,
      "outputs": [
        {
          "output_type": "stream",
          "text": [
            "The total moment of inertia is =  0.3333203125000001 kg m^2\n"
          ],
          "name": "stdout"
        }
      ]
    },
    {
      "cell_type": "code",
      "metadata": {
        "id": "SPET6ddMKnb1",
        "colab_type": "code",
        "colab": {}
      },
      "source": [
        ""
      ],
      "execution_count": 0,
      "outputs": []
    },
    {
      "cell_type": "code",
      "metadata": {
        "id": "2o8j9JFUKnb8",
        "colab_type": "code",
        "colab": {}
      },
      "source": [
        ""
      ],
      "execution_count": 0,
      "outputs": []
    },
    {
      "cell_type": "code",
      "metadata": {
        "id": "N_7YOR9EKncC",
        "colab_type": "code",
        "colab": {}
      },
      "source": [
        ""
      ],
      "execution_count": 0,
      "outputs": []
    }
  ]
}